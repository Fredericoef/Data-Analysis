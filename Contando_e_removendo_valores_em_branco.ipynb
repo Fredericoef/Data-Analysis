{
  "nbformat": 4,
  "nbformat_minor": 0,
  "metadata": {
    "colab": {
      "name": "Contando_e_removendo_valores_em_branco.ipynb",
      "provenance": [],
      "collapsed_sections": [],
      "authorship_tag": "ABX9TyMccRVEUr+eSYAlAdzfKefe",
      "include_colab_link": true
    },
    "kernelspec": {
      "name": "python3",
      "display_name": "Python 3"
    },
    "language_info": {
      "name": "python"
    }
  },
  "cells": [
    {
      "cell_type": "markdown",
      "metadata": {
        "id": "view-in-github",
        "colab_type": "text"
      },
      "source": [
        "<a href=\"https://colab.research.google.com/github/Fredericoef/Data-Analysis/blob/master/Contando_e_removendo_valores_em_branco.ipynb\" target=\"_parent\"><img src=\"https://colab.research.google.com/assets/colab-badge.svg\" alt=\"Open In Colab\"/></a>"
      ]
    },
    {
      "cell_type": "markdown",
      "metadata": {
        "id": "dJSnrEs_6pDi"
      },
      "source": [
        "#Contando e removendo valores em branco\n"
      ]
    },
    {
      "cell_type": "code",
      "metadata": {
        "id": "uatrFqGK6ZQD"
      },
      "source": [
        "import numpy as np\n",
        "import pandas as pd\n",
        "\n",
        "from pandas import Series, DataFrame"
      ],
      "execution_count": 8,
      "outputs": []
    },
    {
      "cell_type": "code",
      "metadata": {
        "colab": {
          "base_uri": "https://localhost:8080/",
          "height": 235
        },
        "id": "DjTEwBIR7WN3",
        "outputId": "93d7c04c-d2ca-40b1-d424-b2479bba6645"
      },
      "source": [
        "em_branco = np.nan\n",
        "np.random.seed(25)\n",
        "df = DataFrame(np.random.randn(36).reshape(6,6))\n",
        "df.loc[3:5, 0] = em_branco\n",
        "df.loc[1:4, 5] = em_branco\n",
        "df"
      ],
      "execution_count": 9,
      "outputs": [
        {
          "output_type": "execute_result",
          "data": {
            "text/html": [
              "<div>\n",
              "<style scoped>\n",
              "    .dataframe tbody tr th:only-of-type {\n",
              "        vertical-align: middle;\n",
              "    }\n",
              "\n",
              "    .dataframe tbody tr th {\n",
              "        vertical-align: top;\n",
              "    }\n",
              "\n",
              "    .dataframe thead th {\n",
              "        text-align: right;\n",
              "    }\n",
              "</style>\n",
              "<table border=\"1\" class=\"dataframe\">\n",
              "  <thead>\n",
              "    <tr style=\"text-align: right;\">\n",
              "      <th></th>\n",
              "      <th>0</th>\n",
              "      <th>1</th>\n",
              "      <th>2</th>\n",
              "      <th>3</th>\n",
              "      <th>4</th>\n",
              "      <th>5</th>\n",
              "    </tr>\n",
              "  </thead>\n",
              "  <tbody>\n",
              "    <tr>\n",
              "      <th>0</th>\n",
              "      <td>0.228273</td>\n",
              "      <td>1.026890</td>\n",
              "      <td>-0.839585</td>\n",
              "      <td>-0.591182</td>\n",
              "      <td>-0.956888</td>\n",
              "      <td>-0.222326</td>\n",
              "    </tr>\n",
              "    <tr>\n",
              "      <th>1</th>\n",
              "      <td>-0.619915</td>\n",
              "      <td>1.837905</td>\n",
              "      <td>-2.053231</td>\n",
              "      <td>0.868583</td>\n",
              "      <td>-0.920734</td>\n",
              "      <td>NaN</td>\n",
              "    </tr>\n",
              "    <tr>\n",
              "      <th>2</th>\n",
              "      <td>2.152957</td>\n",
              "      <td>-1.334661</td>\n",
              "      <td>0.076380</td>\n",
              "      <td>-1.246089</td>\n",
              "      <td>1.202272</td>\n",
              "      <td>NaN</td>\n",
              "    </tr>\n",
              "    <tr>\n",
              "      <th>3</th>\n",
              "      <td>NaN</td>\n",
              "      <td>-0.419678</td>\n",
              "      <td>2.294842</td>\n",
              "      <td>-2.594487</td>\n",
              "      <td>2.822756</td>\n",
              "      <td>NaN</td>\n",
              "    </tr>\n",
              "    <tr>\n",
              "      <th>4</th>\n",
              "      <td>NaN</td>\n",
              "      <td>-1.976254</td>\n",
              "      <td>0.533340</td>\n",
              "      <td>-0.290870</td>\n",
              "      <td>-0.513520</td>\n",
              "      <td>NaN</td>\n",
              "    </tr>\n",
              "    <tr>\n",
              "      <th>5</th>\n",
              "      <td>NaN</td>\n",
              "      <td>-1.839905</td>\n",
              "      <td>1.607671</td>\n",
              "      <td>0.388292</td>\n",
              "      <td>0.399732</td>\n",
              "      <td>0.405477</td>\n",
              "    </tr>\n",
              "  </tbody>\n",
              "</table>\n",
              "</div>"
            ],
            "text/plain": [
              "          0         1         2         3         4         5\n",
              "0  0.228273  1.026890 -0.839585 -0.591182 -0.956888 -0.222326\n",
              "1 -0.619915  1.837905 -2.053231  0.868583 -0.920734       NaN\n",
              "2  2.152957 -1.334661  0.076380 -1.246089  1.202272       NaN\n",
              "3       NaN -0.419678  2.294842 -2.594487  2.822756       NaN\n",
              "4       NaN -1.976254  0.533340 -0.290870 -0.513520       NaN\n",
              "5       NaN -1.839905  1.607671  0.388292  0.399732  0.405477"
            ]
          },
          "metadata": {},
          "execution_count": 9
        }
      ]
    },
    {
      "cell_type": "markdown",
      "metadata": {
        "id": "ySc9AjnKbItD"
      },
      "source": [
        "#Contando valores em branco"
      ]
    },
    {
      "cell_type": "markdown",
      "metadata": {
        "id": "2jvTeWpvaoHz"
      },
      "source": [
        "**nome_do_objeto.isnull().sum()**"
      ]
    },
    {
      "cell_type": "code",
      "metadata": {
        "colab": {
          "base_uri": "https://localhost:8080/"
        },
        "id": "H2yJJffTau9E",
        "outputId": "c6c504bb-8604-401d-beab-7db860bc11fb"
      },
      "source": [
        "df.isnull().sum()"
      ],
      "execution_count": 10,
      "outputs": [
        {
          "output_type": "execute_result",
          "data": {
            "text/plain": [
              "0    3\n",
              "1    0\n",
              "2    0\n",
              "3    0\n",
              "4    0\n",
              "5    4\n",
              "dtype: int64"
            ]
          },
          "metadata": {},
          "execution_count": 10
        }
      ]
    },
    {
      "cell_type": "markdown",
      "metadata": {
        "id": "p6JBP2wHdnin"
      },
      "source": [
        "# Removendo valores em branco"
      ]
    },
    {
      "cell_type": "markdown",
      "metadata": {
        "id": "iOBl5cz5drUP"
      },
      "source": [
        "**nome_do_objeto.dropna()**"
      ]
    },
    {
      "cell_type": "code",
      "metadata": {
        "colab": {
          "base_uri": "https://localhost:8080/",
          "height": 80
        },
        "id": "PSfMmrcSdyNx",
        "outputId": "6dce281c-4f2a-41a9-963b-9db7f682a2b1"
      },
      "source": [
        "df.dropna()"
      ],
      "execution_count": 11,
      "outputs": [
        {
          "output_type": "execute_result",
          "data": {
            "text/html": [
              "<div>\n",
              "<style scoped>\n",
              "    .dataframe tbody tr th:only-of-type {\n",
              "        vertical-align: middle;\n",
              "    }\n",
              "\n",
              "    .dataframe tbody tr th {\n",
              "        vertical-align: top;\n",
              "    }\n",
              "\n",
              "    .dataframe thead th {\n",
              "        text-align: right;\n",
              "    }\n",
              "</style>\n",
              "<table border=\"1\" class=\"dataframe\">\n",
              "  <thead>\n",
              "    <tr style=\"text-align: right;\">\n",
              "      <th></th>\n",
              "      <th>0</th>\n",
              "      <th>1</th>\n",
              "      <th>2</th>\n",
              "      <th>3</th>\n",
              "      <th>4</th>\n",
              "      <th>5</th>\n",
              "    </tr>\n",
              "  </thead>\n",
              "  <tbody>\n",
              "    <tr>\n",
              "      <th>0</th>\n",
              "      <td>0.228273</td>\n",
              "      <td>1.02689</td>\n",
              "      <td>-0.839585</td>\n",
              "      <td>-0.591182</td>\n",
              "      <td>-0.956888</td>\n",
              "      <td>-0.222326</td>\n",
              "    </tr>\n",
              "  </tbody>\n",
              "</table>\n",
              "</div>"
            ],
            "text/plain": [
              "          0        1         2         3         4         5\n",
              "0  0.228273  1.02689 -0.839585 -0.591182 -0.956888 -0.222326"
            ]
          },
          "metadata": {},
          "execution_count": 11
        }
      ]
    },
    {
      "cell_type": "code",
      "metadata": {
        "colab": {
          "base_uri": "https://localhost:8080/",
          "height": 235
        },
        "id": "JAVuw5Wvf8Lr",
        "outputId": "08ebda56-39d0-4259-87db-413f57a87ef4"
      },
      "source": [
        "df.dropna(axis=1)"
      ],
      "execution_count": 12,
      "outputs": [
        {
          "output_type": "execute_result",
          "data": {
            "text/html": [
              "<div>\n",
              "<style scoped>\n",
              "    .dataframe tbody tr th:only-of-type {\n",
              "        vertical-align: middle;\n",
              "    }\n",
              "\n",
              "    .dataframe tbody tr th {\n",
              "        vertical-align: top;\n",
              "    }\n",
              "\n",
              "    .dataframe thead th {\n",
              "        text-align: right;\n",
              "    }\n",
              "</style>\n",
              "<table border=\"1\" class=\"dataframe\">\n",
              "  <thead>\n",
              "    <tr style=\"text-align: right;\">\n",
              "      <th></th>\n",
              "      <th>1</th>\n",
              "      <th>2</th>\n",
              "      <th>3</th>\n",
              "      <th>4</th>\n",
              "    </tr>\n",
              "  </thead>\n",
              "  <tbody>\n",
              "    <tr>\n",
              "      <th>0</th>\n",
              "      <td>1.026890</td>\n",
              "      <td>-0.839585</td>\n",
              "      <td>-0.591182</td>\n",
              "      <td>-0.956888</td>\n",
              "    </tr>\n",
              "    <tr>\n",
              "      <th>1</th>\n",
              "      <td>1.837905</td>\n",
              "      <td>-2.053231</td>\n",
              "      <td>0.868583</td>\n",
              "      <td>-0.920734</td>\n",
              "    </tr>\n",
              "    <tr>\n",
              "      <th>2</th>\n",
              "      <td>-1.334661</td>\n",
              "      <td>0.076380</td>\n",
              "      <td>-1.246089</td>\n",
              "      <td>1.202272</td>\n",
              "    </tr>\n",
              "    <tr>\n",
              "      <th>3</th>\n",
              "      <td>-0.419678</td>\n",
              "      <td>2.294842</td>\n",
              "      <td>-2.594487</td>\n",
              "      <td>2.822756</td>\n",
              "    </tr>\n",
              "    <tr>\n",
              "      <th>4</th>\n",
              "      <td>-1.976254</td>\n",
              "      <td>0.533340</td>\n",
              "      <td>-0.290870</td>\n",
              "      <td>-0.513520</td>\n",
              "    </tr>\n",
              "    <tr>\n",
              "      <th>5</th>\n",
              "      <td>-1.839905</td>\n",
              "      <td>1.607671</td>\n",
              "      <td>0.388292</td>\n",
              "      <td>0.399732</td>\n",
              "    </tr>\n",
              "  </tbody>\n",
              "</table>\n",
              "</div>"
            ],
            "text/plain": [
              "          1         2         3         4\n",
              "0  1.026890 -0.839585 -0.591182 -0.956888\n",
              "1  1.837905 -2.053231  0.868583 -0.920734\n",
              "2 -1.334661  0.076380 -1.246089  1.202272\n",
              "3 -0.419678  2.294842 -2.594487  2.822756\n",
              "4 -1.976254  0.533340 -0.290870 -0.513520\n",
              "5 -1.839905  1.607671  0.388292  0.399732"
            ]
          },
          "metadata": {},
          "execution_count": 12
        }
      ]
    }
  ]
}